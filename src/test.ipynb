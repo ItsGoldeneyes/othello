{
 "cells": [
  {
   "cell_type": "code",
   "execution_count": 1,
   "metadata": {},
   "outputs": [],
   "source": [
    "from othello import OthelloGame"
   ]
  },
  {
   "cell_type": "code",
   "execution_count": 2,
   "metadata": {},
   "outputs": [
    {
     "name": "stdout",
     "output_type": "stream",
     "text": [
      " ∘ ∘ ∘ ∘ ∘ ∘ ∘ ∘\n",
      " ∘ ∘ ∘ ∘ ∘ ∘ ∘ ∘\n",
      " ∘ ∘ ∘ ∘ ∘ ∘ ∘ ∘\n",
      " ∘ ∘ ∘ ∘ ∘ ∘ ∘ ∘\n",
      " ∘ ∘ ∘ ∘ ∘ ∘ ∘ ∘\n",
      " ∘ ∘ ∘ ∘ ∘ ∘ ∘ ∘\n",
      " ∘ ∘ ∘ ∘ ∘ ∘ ∘ ∘\n",
      " ∘ ∘ ∘ ∘ ∘ ∘ ∘ ∘\n",
      "\n"
     ]
    }
   ],
   "source": [
    "game = OthelloGame()\n",
    "game.show()\n"
   ]
  },
  {
   "cell_type": "code",
   "execution_count": 3,
   "metadata": {},
   "outputs": [
    {
     "name": "stdout",
     "output_type": "stream",
     "text": [
      "2 1 False\n",
      "1 2 False\n",
      "0 1 False\n",
      "1 2 False\n",
      " ∘ ∘ ∘ ∘ ∘ ∘ ∘ ∘\n",
      " ∘ ∘ ∘ ∘ ∘ ∘ ∘ ∘\n",
      " ∘ ∘ ∘ ∘ ∘ ∘ ∘ ∘\n",
      " ∘ ∘ ∘ ∘ ∘ ∘ ∘ ∘\n",
      " ∘ ∘ ∘ ∘ ∘ ∘ ∘ ∘\n",
      " ∘ ∘ ∘ ∘ ∘ ∘ ∘ ∘\n",
      " ∘ ◯ ∘ ∘ ∘ ∘ ∘ ∘\n",
      " ∘ ∘ ∘ ∘ ∘ ∘ ∘ ∘\n",
      "\n",
      "3 1 False\n",
      "2 2 False\n",
      "1 1 True\n",
      "2 2 False\n",
      "Not adjacent to enemy\n",
      "3 1 False\n",
      "2 2 False\n",
      "1 1 True\n",
      "2 2 False\n",
      "Not adjacent to enemy\n",
      "Input contains no numbers\n",
      "Input contains no numbers\n",
      "Input contains no numbers\n",
      "Input contains no numbers\n",
      "Input contains no numbers\n",
      "Input contains no numbers\n",
      "Input contains no numbers\n",
      "Input contains no numbers\n",
      "Input contains no numbers\n",
      "Input contains no numbers\n",
      "Input contains no numbers\n",
      "Input contains no numbers\n",
      "Input contains no numbers\n",
      "Input contains no numbers\n"
     ]
    }
   ],
   "source": [
    "player = 0\n",
    "while not game.winner:\n",
    "    game.turn(player+1)\n",
    "    game.show()"
   ]
  },
  {
   "cell_type": "code",
   "execution_count": null,
   "metadata": {},
   "outputs": [],
   "source": []
  }
 ],
 "metadata": {
  "kernelspec": {
   "display_name": "Python 3.10.6 64-bit",
   "language": "python",
   "name": "python3"
  },
  "language_info": {
   "codemirror_mode": {
    "name": "ipython",
    "version": 3
   },
   "file_extension": ".py",
   "mimetype": "text/x-python",
   "name": "python",
   "nbconvert_exporter": "python",
   "pygments_lexer": "ipython3",
   "version": "3.10.6"
  },
  "orig_nbformat": 4,
  "vscode": {
   "interpreter": {
    "hash": "d37b5943df0ee5cc553b95d5b68b17e9d4196dc8309aa7c0643598742e5c200d"
   }
  }
 },
 "nbformat": 4,
 "nbformat_minor": 2
}
