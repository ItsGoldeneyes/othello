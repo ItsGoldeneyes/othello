{
 "cells": [
  {
   "cell_type": "code",
   "execution_count": 1,
   "metadata": {},
   "outputs": [],
   "source": [
    "from othello.othello_board import OthelloBoard"
   ]
  },
  {
   "cell_type": "code",
   "execution_count": 2,
   "metadata": {},
   "outputs": [],
   "source": [
    "board = OthelloBoard()"
   ]
  },
  {
   "cell_type": "code",
   "execution_count": 3,
   "metadata": {},
   "outputs": [
    {
     "name": "stdout",
     "output_type": "stream",
     "text": [
      " ∘ ∘ ∘ ∘ ∘ ∘ ∘ ∘\n",
      " ∘ ∘ ∘ ∘ ∘ ∘ ∘ ∘\n",
      " ∘ ∘ ∘ ∘ ∘ ∘ ∘ ∘\n",
      " ∘ ∘ ∘ ◯ ⬤ ∘ ∘ ∘\n",
      " ∘ ∘ ∘ ⬤ ◯ ∘ ∘ ∘\n",
      " ∘ ∘ ∘ ∘ ∘ ∘ ∘ ∘\n",
      " ∘ ∘ ∘ ∘ ∘ ∘ ∘ ∘\n",
      " ∘ ∘ ∘ ∘ ∘ ∘ ∘ ∘\n",
      "\n"
     ]
    }
   ],
   "source": [
    "print(board)"
   ]
  },
  {
   "cell_type": "code",
   "execution_count": 4,
   "metadata": {},
   "outputs": [],
   "source": [
    "static_weights = [[4,  -3,  2,  2,  2,  2, -3,  4],\n",
    "                          [-3, -4, -1, -1, -1, -1, -4, -3],\n",
    "                          [2,  -1,  1,  0,  0,  1, -1,  2],\n",
    "                          [2,  -1,  0,  5,  4,  0, -1,  2],\n",
    "                          [2,  -1,  0,  4,  5,  0, -1,  2],\n",
    "                          [2,  -1,  1,  0,  0,  1, -1,  2],\n",
    "                          [-3, -4, -1, -1, -1, -1, -4, -3],\n",
    "                          [4,  -3,  2,  2,  2,  2, -3,  4]]"
   ]
  },
  {
   "cell_type": "code",
   "execution_count": 5,
   "metadata": {},
   "outputs": [],
   "source": [
    "piece_locations = [[static_weights[x][y] if board.board[x][y] == 1 else 0 for y in range(len(board.board)) ] for x in range(len(board.board))]"
   ]
  },
  {
   "cell_type": "code",
   "execution_count": 6,
   "metadata": {},
   "outputs": [
    {
     "data": {
      "text/plain": [
       "[[0, 0, 0, 0, 0, 0, 0, 0],\n",
       " [0, 0, 0, 0, 0, 0, 0, 0],\n",
       " [0, 0, 0, 0, 0, 0, 0, 0],\n",
       " [0, 0, 0, 5, 0, 0, 0, 0],\n",
       " [0, 0, 0, 0, 5, 0, 0, 0],\n",
       " [0, 0, 0, 0, 0, 0, 0, 0],\n",
       " [0, 0, 0, 0, 0, 0, 0, 0],\n",
       " [0, 0, 0, 0, 0, 0, 0, 0]]"
      ]
     },
     "execution_count": 6,
     "metadata": {},
     "output_type": "execute_result"
    }
   ],
   "source": [
    "piece_locations"
   ]
  },
  {
   "cell_type": "code",
   "execution_count": 7,
   "metadata": {},
   "outputs": [],
   "source": [
    "for row in range(len(piece_locations)):\n",
    "    for col in range(len(piece_locations)):\n",
    "        if piece_locations[row][col] == 1:\n",
    "            print(row, col)"
   ]
  },
  {
   "cell_type": "code",
   "execution_count": null,
   "metadata": {},
   "outputs": [],
   "source": []
  }
 ],
 "metadata": {
  "kernelspec": {
   "display_name": "Python 3",
   "language": "python",
   "name": "python3"
  },
  "language_info": {
   "codemirror_mode": {
    "name": "ipython",
    "version": 3
   },
   "file_extension": ".py",
   "mimetype": "text/x-python",
   "name": "python",
   "nbconvert_exporter": "python",
   "pygments_lexer": "ipython3",
   "version": "3.9.13 (tags/v3.9.13:6de2ca5, May 17 2022, 16:36:42) [MSC v.1929 64 bit (AMD64)]"
  },
  "orig_nbformat": 4,
  "vscode": {
   "interpreter": {
    "hash": "f50f7a41ad96c4067be98a7dbb2670963d730b77523a35721eedd04898ba3c97"
   }
  }
 },
 "nbformat": 4,
 "nbformat_minor": 2
}
