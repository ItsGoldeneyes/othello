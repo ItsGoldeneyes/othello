{
 "cells": [
  {
   "cell_type": "code",
   "execution_count": 2,
   "metadata": {},
   "outputs": [],
   "source": [
    "from othello import OthelloGame, OthelloBoard\n",
    "import random"
   ]
  },
  {
   "cell_type": "code",
   "execution_count": 3,
   "metadata": {},
   "outputs": [
    {
     "name": "stdout",
     "output_type": "stream",
     "text": [
      " ∘ ∘ ∘ ∘ ∘ ∘ ∘ ∘\n",
      " ∘ ∘ ∘ ∘ ∘ ∘ ∘ ∘\n",
      " ∘ ∘ ∘ ∘ ∘ ∘ ∘ ∘\n",
      " ∘ ∘ ∘ ◯ ⬤ ∘ ∘ ∘\n",
      " ∘ ∘ ∘ ⬤ ◯ ∘ ∘ ∘\n",
      " ∘ ∘ ∘ ∘ ∘ ∘ ∘ ∘\n",
      " ∘ ∘ ∘ ∘ ∘ ∘ ∘ ∘\n",
      " ∘ ∘ ∘ ∘ ∘ ∘ ∘ ∘\n",
      "\n"
     ]
    }
   ],
   "source": [
    "game = OthelloGame()\n",
    "game.show()"
   ]
  },
  {
   "cell_type": "code",
   "execution_count": 4,
   "metadata": {},
   "outputs": [],
   "source": [
    "game.board.board = \\\n",
    "    [[0, 2, 0, 0, 0, 0, 0, 0], \\\n",
    "    [2, 2, 2, 2, 0, 0, 0, 0], \\\n",
    "    [0, 2, 2, 0, 0, 1, 0, 0], \\\n",
    "    [0, 2, 2, 1, 1, 0, 1, 0], \\\n",
    "    [0, 0, 0, 1, 1, 1, 0, 0], \\\n",
    "    [0, 0, 0, 1, 1, 1, 1, 0], \\\n",
    "    [0, 0, 0, 0, 0, 0, 0, 1], \\\n",
    "    [0, 0, 0, 0, 0, 0, 0, 0]] "
   ]
  },
  {
   "cell_type": "code",
   "execution_count": 5,
   "metadata": {},
   "outputs": [
    {
     "name": "stdout",
     "output_type": "stream",
     "text": [
      " ∘ ∘ ∘ ∘ ∘ ∘ ∘ ∘\n",
      " ∘ ∘ ∘ ∘ ∘ ∘ ∘ ⬤\n",
      " ∘ ∘ ∘ ⬤ ⬤ ⬤ ⬤ ∘\n",
      " ∘ ∘ ∘ ⬤ ⬤ ⬤ ∘ ∘\n",
      " ∘ ◯ ◯ ⬤ ⬤ ∘ ⬤ ∘\n",
      " ∘ ◯ ◯ ∘ ∘ ⬤ ∘ ∘\n",
      " ◯ ◯ ◯ ◯ ∘ ∘ ∘ ∘\n",
      " ∘ ◯ ∘ ∘ ∘ ∘ ∘ ∘\n",
      "\n"
     ]
    }
   ],
   "source": [
    "game.show()\n"
   ]
  },
  {
   "cell_type": "code",
   "execution_count": 7,
   "metadata": {},
   "outputs": [
    {
     "name": "stdout",
     "output_type": "stream",
     "text": [
      " ∘ ∘ ∘ ∘ ∘ ∘ ∘ ∘\n",
      " ∘ ∘ ∘ ∘ ∘ ∘ ∘ ⬤\n",
      " ∘ ∘ ∘ ◯ ⬤ ⬤ ⬤ ∘\n",
      " ∘ ∘ ∘ ⬤ ⬤ ⬤ ∘ ∘\n",
      " ∘ ◯ ◯ ⬤ ⬤ ∘ ⬤ ∘\n",
      " ∘ ◯ ◯ ∘ ∘ ⬤ ∘ ∘\n",
      " ◯ ◯ ◯ ◯ ∘ ∘ ∘ ∘\n",
      " ∘ ◯ ∘ ∘ ∘ ∘ ∘ ∘\n",
      "\n"
     ]
    }
   ],
   "source": [
    "game.board.move(2, (4,5))\n",
    "game.show()"
   ]
  },
  {
   "cell_type": "code",
   "execution_count": null,
   "metadata": {},
   "outputs": [],
   "source": []
  }
 ],
 "metadata": {
  "kernelspec": {
   "display_name": "Python 3",
   "language": "python",
   "name": "python3"
  },
  "language_info": {
   "codemirror_mode": {
    "name": "ipython",
    "version": 3
   },
   "file_extension": ".py",
   "mimetype": "text/x-python",
   "name": "python",
   "nbconvert_exporter": "python",
   "pygments_lexer": "ipython3",
   "version": "3.9.13"
  },
  "orig_nbformat": 4,
  "vscode": {
   "interpreter": {
    "hash": "f50f7a41ad96c4067be98a7dbb2670963d730b77523a35721eedd04898ba3c97"
   }
  }
 },
 "nbformat": 4,
 "nbformat_minor": 2
}
