{
 "cells": [
  {
   "cell_type": "code",
   "execution_count": 1,
   "metadata": {},
   "outputs": [],
   "source": [
    "from othello import OthelloGame, OthelloBoard"
   ]
  },
  {
   "cell_type": "code",
   "execution_count": 2,
   "metadata": {},
   "outputs": [
    {
     "name": "stdout",
     "output_type": "stream",
     "text": [
      " ∘ ∘ ∘ ∘ ∘ ∘ ∘ ∘\n",
      " ∘ ∘ ∘ ∘ ∘ ∘ ∘ ∘\n",
      " ∘ ∘ ∘ ∘ ∘ ∘ ∘ ∘\n",
      " ∘ ∘ ∘ ◯ ⬤ ∘ ∘ ∘\n",
      " ∘ ∘ ∘ ⬤ ◯ ∘ ∘ ∘\n",
      " ∘ ∘ ∘ ∘ ∘ ∘ ∘ ∘\n",
      " ∘ ∘ ∘ ∘ ∘ ∘ ∘ ∘\n",
      " ∘ ∘ ∘ ∘ ∘ ∘ ∘ ∘\n",
      "\n"
     ]
    }
   ],
   "source": [
    "game = OthelloGame()\n",
    "game.show()\n"
   ]
  },
  {
   "cell_type": "code",
   "execution_count": 3,
   "metadata": {},
   "outputs": [],
   "source": [
    "player = 1\n",
    "# while not game.winner:\n",
    "# game.board.move(player, (6,3))"
   ]
  },
  {
   "cell_type": "code",
   "execution_count": 4,
   "metadata": {},
   "outputs": [
    {
     "name": "stdout",
     "output_type": "stream",
     "text": [
      "n (2, 6)\n",
      "(2, 6)\n",
      "ne (3, 6)\n",
      "(3, 6)\n",
      "nw (1, 6)\n",
      "(1, 6)\n",
      "s (2, 4)\n",
      "(2, 4)\n",
      "se (3, 4)\n",
      "(3, 4)\n"
     ]
    },
    {
     "ename": "TypeError",
     "evalue": "list indices must be integers or slices, not str",
     "output_type": "error",
     "traceback": [
      "\u001b[1;31m---------------------------------------------------------------------------\u001b[0m",
      "\u001b[1;31mTypeError\u001b[0m                                 Traceback (most recent call last)",
      "\u001b[1;32mc:\\Users\\adamc\\OneDrive\\Documents\\GitHub\\othello\\src\\test.ipynb Cell 4\u001b[0m in \u001b[0;36m<cell line: 1>\u001b[1;34m()\u001b[0m\n\u001b[0;32m      <a href='vscode-notebook-cell:/c%3A/Users/adamc/OneDrive/Documents/GitHub/othello/src/test.ipynb#X10sZmlsZQ%3D%3D?line=0'>1</a>\u001b[0m \u001b[39mwhile\u001b[39;00m \u001b[39mnot\u001b[39;00m game\u001b[39m.\u001b[39mwinner:\n\u001b[1;32m----> <a href='vscode-notebook-cell:/c%3A/Users/adamc/OneDrive/Documents/GitHub/othello/src/test.ipynb#X10sZmlsZQ%3D%3D?line=1'>2</a>\u001b[0m         game\u001b[39m.\u001b[39;49mturn(player)\n\u001b[0;32m      <a href='vscode-notebook-cell:/c%3A/Users/adamc/OneDrive/Documents/GitHub/othello/src/test.ipynb#X10sZmlsZQ%3D%3D?line=2'>3</a>\u001b[0m         game\u001b[39m.\u001b[39mshow()\n",
      "File \u001b[1;32mc:\\Users\\adamc\\OneDrive\\Documents\\GitHub\\othello\\src\\othello.py:53\u001b[0m, in \u001b[0;36mOthelloGame.turn\u001b[1;34m(self, player, pos)\u001b[0m\n\u001b[0;32m     50\u001b[0m     \u001b[39mif\u001b[39;00m pos_tuple:\n\u001b[0;32m     51\u001b[0m         valid \u001b[39m=\u001b[39m \u001b[39mself\u001b[39m\u001b[39m.\u001b[39mboard\u001b[39m.\u001b[39mcheck_move(player, pos_tuple)\n\u001b[1;32m---> 53\u001b[0m \u001b[39mself\u001b[39;49m\u001b[39m.\u001b[39;49mboard\u001b[39m.\u001b[39;49mmove(player, pos_tuple)\n",
      "File \u001b[1;32mc:\\Users\\adamc\\OneDrive\\Documents\\GitHub\\othello\\src\\othello.py:195\u001b[0m, in \u001b[0;36mOthelloBoard.move\u001b[1;34m(self, player, pos)\u001b[0m\n\u001b[0;32m    193\u001b[0m \u001b[39mfor\u001b[39;00m move \u001b[39min\u001b[39;00m adjacent:\n\u001b[0;32m    194\u001b[0m     \u001b[39mprint\u001b[39m(move, adjacent[move])\n\u001b[1;32m--> 195\u001b[0m     \u001b[39mself\u001b[39;49m\u001b[39m.\u001b[39;49mupdate_move(adjacent[move], player, move)\n",
      "File \u001b[1;32mc:\\Users\\adamc\\OneDrive\\Documents\\GitHub\\othello\\src\\othello.py:174\u001b[0m, in \u001b[0;36mOthelloBoard.update_move\u001b[1;34m(self, pos, player, dir)\u001b[0m\n\u001b[0;32m    172\u001b[0m \u001b[39mif\u001b[39;00m \u001b[39mself\u001b[39m\u001b[39m.\u001b[39mboard[pos[\u001b[39m0\u001b[39m]][pos[\u001b[39m1\u001b[39m]] \u001b[39m==\u001b[39m ((player\u001b[39m%\u001b[39m\u001b[39m2\u001b[39m)\u001b[39m+\u001b[39m\u001b[39m1\u001b[39m):\n\u001b[0;32m    173\u001b[0m     adjacent \u001b[39m=\u001b[39m \u001b[39mself\u001b[39m\u001b[39m.\u001b[39madjacent_spaces(pos)\n\u001b[1;32m--> 174\u001b[0m     next_space \u001b[39m=\u001b[39m \u001b[39mself\u001b[39m\u001b[39m.\u001b[39mupdate_move(player, adjacent[\u001b[39mdir\u001b[39;49m], \u001b[39mdir\u001b[39m)\n\u001b[0;32m    176\u001b[0m     \u001b[39mif\u001b[39;00m next_space:\n\u001b[0;32m    177\u001b[0m         \u001b[39mif\u001b[39;00m \u001b[39misinstance\u001b[39m(next_space, \u001b[39mtuple\u001b[39m):\n",
      "\u001b[1;31mTypeError\u001b[0m: list indices must be integers or slices, not str"
     ]
    }
   ],
   "source": [
    "while not game.winner:\n",
    "        game.turn(player)\n",
    "        game.show()"
   ]
  },
  {
   "cell_type": "code",
   "execution_count": null,
   "metadata": {},
   "outputs": [],
   "source": []
  }
 ],
 "metadata": {
  "kernelspec": {
   "display_name": "Python 3.10.6 64-bit",
   "language": "python",
   "name": "python3"
  },
  "language_info": {
   "codemirror_mode": {
    "name": "ipython",
    "version": 3
   },
   "file_extension": ".py",
   "mimetype": "text/x-python",
   "name": "python",
   "nbconvert_exporter": "python",
   "pygments_lexer": "ipython3",
   "version": "3.10.6"
  },
  "orig_nbformat": 4,
  "vscode": {
   "interpreter": {
    "hash": "d37b5943df0ee5cc553b95d5b68b17e9d4196dc8309aa7c0643598742e5c200d"
   }
  }
 },
 "nbformat": 4,
 "nbformat_minor": 2
}
