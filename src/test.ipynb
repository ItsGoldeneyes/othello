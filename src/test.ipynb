{
 "cells": [
  {
   "cell_type": "code",
   "execution_count": 1,
   "metadata": {},
   "outputs": [],
   "source": [
    "from othello.othello_board import OthelloBoard"
   ]
  },
  {
   "cell_type": "code",
   "execution_count": 2,
   "metadata": {},
   "outputs": [],
   "source": [
    "board = OthelloBoard()"
   ]
  },
  {
   "cell_type": "code",
   "execution_count": 3,
   "metadata": {},
   "outputs": [
    {
     "name": "stdout",
     "output_type": "stream",
     "text": [
      " ∘ ∘ ∘ ∘ ∘ ∘ ∘ ∘\n",
      " ∘ ∘ ∘ ∘ ∘ ∘ ∘ ∘\n",
      " ∘ ∘ ∘ ∘ ∘ ∘ ∘ ∘\n",
      " ∘ ∘ ∘ ◯ ⬤ ∘ ∘ ∘\n",
      " ∘ ∘ ∘ ⬤ ◯ ∘ ∘ ∘\n",
      " ∘ ∘ ∘ ∘ ∘ ∘ ∘ ∘\n",
      " ∘ ∘ ∘ ∘ ∘ ∘ ∘ ∘\n",
      " ∘ ∘ ∘ ∘ ∘ ∘ ∘ ∘\n",
      "\n"
     ]
    }
   ],
   "source": [
    "print(board)"
   ]
  },
  {
   "cell_type": "code",
   "execution_count": 4,
   "metadata": {},
   "outputs": [
    {
     "data": {
      "text/plain": [
       "[(2, 4), (3, 5), (4, 2), (5, 3)]"
      ]
     },
     "execution_count": 4,
     "metadata": {},
     "output_type": "execute_result"
    }
   ],
   "source": [
    "board.get_actual_moves(1)"
   ]
  },
  {
   "cell_type": "code",
   "execution_count": 5,
   "metadata": {},
   "outputs": [
    {
     "data": {
      "text/plain": [
       "[(4, 5),\n",
       " (2, 4),\n",
       " (2, 5),\n",
       " (2, 3),\n",
       " (3, 5),\n",
       " (5, 3),\n",
       " (5, 4),\n",
       " (5, 2),\n",
       " (3, 2),\n",
       " (4, 2)]"
      ]
     },
     "execution_count": 5,
     "metadata": {},
     "output_type": "execute_result"
    }
   ],
   "source": [
    "board.get_potential_moves(1)"
   ]
  }
 ],
 "metadata": {
  "kernelspec": {
   "display_name": "Python 3",
   "language": "python",
   "name": "python3"
  },
  "language_info": {
   "codemirror_mode": {
    "name": "ipython",
    "version": 3
   },
   "file_extension": ".py",
   "mimetype": "text/x-python",
   "name": "python",
   "nbconvert_exporter": "python",
   "pygments_lexer": "ipython3",
   "version": "3.9.13"
  },
  "orig_nbformat": 4,
  "vscode": {
   "interpreter": {
    "hash": "f50f7a41ad96c4067be98a7dbb2670963d730b77523a35721eedd04898ba3c97"
   }
  }
 },
 "nbformat": 4,
 "nbformat_minor": 2
}
